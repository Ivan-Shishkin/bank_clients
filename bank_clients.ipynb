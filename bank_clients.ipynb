{
 "cells": [
  {
   "cell_type": "markdown",
   "metadata": {},
   "source": [
    "<h1 align = \"center\"> Отток клиентов <h1>"
   ]
  },
  {
   "cell_type": "markdown",
   "metadata": {},
   "source": [
    "---"
   ]
  },
  {
   "cell_type": "markdown",
   "metadata": {},
   "source": [
    "Из «Бета-Банка» стали уходить клиенты. Каждый месяц. Немного, но заметно. Банковские маркетологи посчитали: сохранять текущих клиентов дешевле, чем привлекать новых.\n",
    "\n",
    "Нужно спрогнозировать, уйдёт клиент из банка в ближайшее время или нет. Предоставлены исторические данные о поведении клиентов и расторжении договоров с банком. \n",
    "\n",
    "Постройте модель с предельно большим значением *F1*-меры. Проверьте *F1*-меру на тестовой выборке самостоятельно.\n",
    "\n",
    "Дополнительно измеряйте *AUC-ROC*, сравнивайте её значение с *F1*-мерой.\n",
    "\n",
    "Источник данных: [https://www.kaggle.com/barelydedicated/bank-customer-churn-modeling](https://www.kaggle.com/barelydedicated/bank-customer-churn-modeling)"
   ]
  },
  {
   "cell_type": "markdown",
   "metadata": {},
   "source": [
    "# Описание данных"
   ]
  },
  {
   "cell_type": "markdown",
   "metadata": {},
   "source": [
    "- `RowNumber` — индекс строки в данных\n",
    "\n",
    "\n",
    "- `CustomerId` — уникальный идентификатор клиента\n",
    "\n",
    "\n",
    "- `Surname` — фамилия\n",
    "\n",
    "\n",
    "- `CreditScore` — кредитный рейтинг\n",
    "\n",
    "\n",
    "- `Geography` — страна проживания\n",
    "\n",
    "\n",
    "- `Gender` — пол\n",
    "\n",
    "\n",
    "- `Age` — возраст\n",
    "\n",
    "\n",
    "- `Tenure` — количество недвижимости у клиента\n",
    "\n",
    "\n",
    "- `Balance` — баланс на счёте\n",
    "\n",
    "\n",
    "- `NumOfProducts` — количество продуктов банка, используемых клиентом\n",
    "\n",
    "\n",
    "- `HasCrCard` — наличие кредитной карты\n",
    "\n",
    "\n",
    "- `IsActiveMember` — активность клиента\n",
    "\n",
    "\n",
    "- `EstimatedSalary` — предполагаемая зарплата\n",
    "\n",
    "\n",
    "\n",
    "- **`Exited` — факт ухода клиента** - целевой признак"
   ]
  },
  {
   "cell_type": "markdown",
   "metadata": {},
   "source": [
    "# План проекта\n",
    "\n",
    "1. [Подготовка данных](#1)\n",
    "\n",
    "    - [Предобработка данных](#1.1)\n",
    "    \n",
    "    - [Обучающая и тестовая выборки](#1.2)\n",
    "    \n",
    "    - [Стандартизация данных](#1.3)\n",
    "\n",
    "\n",
    "2. [Исследование задачи](#2)\n",
    "\n",
    "    - [Дисбаланс классов](#2.1)\n",
    "    \n",
    "    - [Модель случайного леса](#2.2)\n",
    "    \n",
    "    - [Модель логистической регрессии](#2.3)\n",
    "\n",
    "\n",
    "3. [Борьба с дисбалансом](#3)\n",
    "\n",
    "    - [Модель случайного леса](#3.1)\n",
    "    \n",
    "    - [Модель логистической регрессии](#3.2)\n",
    "\n",
    "\n",
    "4. [Тестирование моделей](#4)\n",
    "\n",
    "\n",
    "5. [Вывод](#5)"
   ]
  },
  {
   "cell_type": "code",
   "execution_count": 1,
   "metadata": {},
   "outputs": [],
   "source": [
    "# импорт данных\n",
    "\n",
    "import pandas as pd\n",
    "import numpy as np\n",
    "from IPython.display import display\n",
    "\n",
    "from sklearn.model_selection import train_test_split, GridSearchCV\n",
    "from sklearn.preprocessing import StandardScaler\n",
    "from sklearn.utils import shuffle\n",
    "from sklearn.metrics import f1_score, roc_auc_score\n",
    "\n",
    "import matplotlib.pyplot as plt\n",
    "import seaborn as sns\n",
    "\n",
    "from sklearn.ensemble import RandomForestClassifier\n",
    "from sklearn.linear_model import LogisticRegression\n",
    "from sklearn.dummy import DummyClassifier"
   ]
  },
  {
   "cell_type": "markdown",
   "metadata": {},
   "source": [
    "<a id=\"1\"></a>"
   ]
  },
  {
   "cell_type": "markdown",
   "metadata": {},
   "source": [
    "# 1. Подготовка данных"
   ]
  },
  {
   "cell_type": "markdown",
   "metadata": {},
   "source": [
    "<a id=\"1.1\"></a>"
   ]
  },
  {
   "cell_type": "markdown",
   "metadata": {},
   "source": [
    "## Предобработка данных"
   ]
  },
  {
   "cell_type": "code",
   "execution_count": 2,
   "metadata": {},
   "outputs": [],
   "source": [
    "# читаем данные\n",
    "\n",
    "try:\n",
    "    data = pd.read_csv('Churn.csv', index_col='RowNumber')\n",
    "    \n",
    "except:\n",
    "    data = pd.read_csv('/datasets/Churn.csv', index_col='RowNumber')"
   ]
  },
  {
   "cell_type": "markdown",
   "metadata": {},
   "source": [
    "Судя по описанию данных, колонка `RowNumber` содержит не полезную информацию о конкретном клиенте, а просто указывает, на какой позиции находилась данная строчка в исходной БД. Поэтому мы явно указали выбрать эту колонку в качестве индекса для нашего датафрейма, т.к. этот параметр не влияет на факт ухода клиента, и таким образом мы исключим его из признаков, на которых будут обучатся наши модели"
   ]
  },
  {
   "cell_type": "code",
   "execution_count": 3,
   "metadata": {},
   "outputs": [
    {
     "data": {
      "text/html": [
       "<div>\n",
       "<style scoped>\n",
       "    .dataframe tbody tr th:only-of-type {\n",
       "        vertical-align: middle;\n",
       "    }\n",
       "\n",
       "    .dataframe tbody tr th {\n",
       "        vertical-align: top;\n",
       "    }\n",
       "\n",
       "    .dataframe thead th {\n",
       "        text-align: right;\n",
       "    }\n",
       "</style>\n",
       "<table border=\"1\" class=\"dataframe\">\n",
       "  <thead>\n",
       "    <tr style=\"text-align: right;\">\n",
       "      <th></th>\n",
       "      <th>CustomerId</th>\n",
       "      <th>Surname</th>\n",
       "      <th>CreditScore</th>\n",
       "      <th>Geography</th>\n",
       "      <th>Gender</th>\n",
       "      <th>Age</th>\n",
       "      <th>Tenure</th>\n",
       "      <th>Balance</th>\n",
       "      <th>NumOfProducts</th>\n",
       "      <th>HasCrCard</th>\n",
       "      <th>IsActiveMember</th>\n",
       "      <th>EstimatedSalary</th>\n",
       "      <th>Exited</th>\n",
       "    </tr>\n",
       "    <tr>\n",
       "      <th>RowNumber</th>\n",
       "      <th></th>\n",
       "      <th></th>\n",
       "      <th></th>\n",
       "      <th></th>\n",
       "      <th></th>\n",
       "      <th></th>\n",
       "      <th></th>\n",
       "      <th></th>\n",
       "      <th></th>\n",
       "      <th></th>\n",
       "      <th></th>\n",
       "      <th></th>\n",
       "      <th></th>\n",
       "    </tr>\n",
       "  </thead>\n",
       "  <tbody>\n",
       "    <tr>\n",
       "      <td>1</td>\n",
       "      <td>15634602</td>\n",
       "      <td>Hargrave</td>\n",
       "      <td>619</td>\n",
       "      <td>France</td>\n",
       "      <td>Female</td>\n",
       "      <td>42</td>\n",
       "      <td>2.0</td>\n",
       "      <td>0.00</td>\n",
       "      <td>1</td>\n",
       "      <td>1</td>\n",
       "      <td>1</td>\n",
       "      <td>101348.88</td>\n",
       "      <td>1</td>\n",
       "    </tr>\n",
       "    <tr>\n",
       "      <td>2</td>\n",
       "      <td>15647311</td>\n",
       "      <td>Hill</td>\n",
       "      <td>608</td>\n",
       "      <td>Spain</td>\n",
       "      <td>Female</td>\n",
       "      <td>41</td>\n",
       "      <td>1.0</td>\n",
       "      <td>83807.86</td>\n",
       "      <td>1</td>\n",
       "      <td>0</td>\n",
       "      <td>1</td>\n",
       "      <td>112542.58</td>\n",
       "      <td>0</td>\n",
       "    </tr>\n",
       "    <tr>\n",
       "      <td>3</td>\n",
       "      <td>15619304</td>\n",
       "      <td>Onio</td>\n",
       "      <td>502</td>\n",
       "      <td>France</td>\n",
       "      <td>Female</td>\n",
       "      <td>42</td>\n",
       "      <td>8.0</td>\n",
       "      <td>159660.80</td>\n",
       "      <td>3</td>\n",
       "      <td>1</td>\n",
       "      <td>0</td>\n",
       "      <td>113931.57</td>\n",
       "      <td>1</td>\n",
       "    </tr>\n",
       "    <tr>\n",
       "      <td>4</td>\n",
       "      <td>15701354</td>\n",
       "      <td>Boni</td>\n",
       "      <td>699</td>\n",
       "      <td>France</td>\n",
       "      <td>Female</td>\n",
       "      <td>39</td>\n",
       "      <td>1.0</td>\n",
       "      <td>0.00</td>\n",
       "      <td>2</td>\n",
       "      <td>0</td>\n",
       "      <td>0</td>\n",
       "      <td>93826.63</td>\n",
       "      <td>0</td>\n",
       "    </tr>\n",
       "    <tr>\n",
       "      <td>5</td>\n",
       "      <td>15737888</td>\n",
       "      <td>Mitchell</td>\n",
       "      <td>850</td>\n",
       "      <td>Spain</td>\n",
       "      <td>Female</td>\n",
       "      <td>43</td>\n",
       "      <td>2.0</td>\n",
       "      <td>125510.82</td>\n",
       "      <td>1</td>\n",
       "      <td>1</td>\n",
       "      <td>1</td>\n",
       "      <td>79084.10</td>\n",
       "      <td>0</td>\n",
       "    </tr>\n",
       "  </tbody>\n",
       "</table>\n",
       "</div>"
      ],
      "text/plain": [
       "           CustomerId   Surname  CreditScore Geography  Gender  Age  Tenure  \\\n",
       "RowNumber                                                                     \n",
       "1            15634602  Hargrave          619    France  Female   42     2.0   \n",
       "2            15647311      Hill          608     Spain  Female   41     1.0   \n",
       "3            15619304      Onio          502    France  Female   42     8.0   \n",
       "4            15701354      Boni          699    France  Female   39     1.0   \n",
       "5            15737888  Mitchell          850     Spain  Female   43     2.0   \n",
       "\n",
       "             Balance  NumOfProducts  HasCrCard  IsActiveMember  \\\n",
       "RowNumber                                                        \n",
       "1               0.00              1          1               1   \n",
       "2           83807.86              1          0               1   \n",
       "3          159660.80              3          1               0   \n",
       "4               0.00              2          0               0   \n",
       "5          125510.82              1          1               1   \n",
       "\n",
       "           EstimatedSalary  Exited  \n",
       "RowNumber                           \n",
       "1                101348.88       1  \n",
       "2                112542.58       0  \n",
       "3                113931.57       1  \n",
       "4                 93826.63       0  \n",
       "5                 79084.10       0  "
      ]
     },
     "metadata": {},
     "output_type": "display_data"
    },
    {
     "data": {
      "text/html": [
       "<div>\n",
       "<style scoped>\n",
       "    .dataframe tbody tr th:only-of-type {\n",
       "        vertical-align: middle;\n",
       "    }\n",
       "\n",
       "    .dataframe tbody tr th {\n",
       "        vertical-align: top;\n",
       "    }\n",
       "\n",
       "    .dataframe thead th {\n",
       "        text-align: right;\n",
       "    }\n",
       "</style>\n",
       "<table border=\"1\" class=\"dataframe\">\n",
       "  <thead>\n",
       "    <tr style=\"text-align: right;\">\n",
       "      <th></th>\n",
       "      <th>dtype</th>\n",
       "    </tr>\n",
       "  </thead>\n",
       "  <tbody>\n",
       "    <tr>\n",
       "      <td>CustomerId</td>\n",
       "      <td>int64</td>\n",
       "    </tr>\n",
       "    <tr>\n",
       "      <td>Surname</td>\n",
       "      <td>object</td>\n",
       "    </tr>\n",
       "    <tr>\n",
       "      <td>CreditScore</td>\n",
       "      <td>int64</td>\n",
       "    </tr>\n",
       "    <tr>\n",
       "      <td>Geography</td>\n",
       "      <td>object</td>\n",
       "    </tr>\n",
       "    <tr>\n",
       "      <td>Gender</td>\n",
       "      <td>object</td>\n",
       "    </tr>\n",
       "    <tr>\n",
       "      <td>Age</td>\n",
       "      <td>int64</td>\n",
       "    </tr>\n",
       "    <tr>\n",
       "      <td>Tenure</td>\n",
       "      <td>float64</td>\n",
       "    </tr>\n",
       "    <tr>\n",
       "      <td>Balance</td>\n",
       "      <td>float64</td>\n",
       "    </tr>\n",
       "    <tr>\n",
       "      <td>NumOfProducts</td>\n",
       "      <td>int64</td>\n",
       "    </tr>\n",
       "    <tr>\n",
       "      <td>HasCrCard</td>\n",
       "      <td>int64</td>\n",
       "    </tr>\n",
       "    <tr>\n",
       "      <td>IsActiveMember</td>\n",
       "      <td>int64</td>\n",
       "    </tr>\n",
       "    <tr>\n",
       "      <td>EstimatedSalary</td>\n",
       "      <td>float64</td>\n",
       "    </tr>\n",
       "    <tr>\n",
       "      <td>Exited</td>\n",
       "      <td>int64</td>\n",
       "    </tr>\n",
       "  </tbody>\n",
       "</table>\n",
       "</div>"
      ],
      "text/plain": [
       "                   dtype\n",
       "CustomerId         int64\n",
       "Surname           object\n",
       "CreditScore        int64\n",
       "Geography         object\n",
       "Gender            object\n",
       "Age                int64\n",
       "Tenure           float64\n",
       "Balance          float64\n",
       "NumOfProducts      int64\n",
       "HasCrCard          int64\n",
       "IsActiveMember     int64\n",
       "EstimatedSalary  float64\n",
       "Exited             int64"
      ]
     },
     "metadata": {},
     "output_type": "display_data"
    },
    {
     "name": "stdout",
     "output_type": "stream",
     "text": [
      "<class 'pandas.core.frame.DataFrame'>\n",
      "Int64Index: 10000 entries, 1 to 10000\n",
      "Data columns (total 13 columns):\n",
      "CustomerId         10000 non-null int64\n",
      "Surname            10000 non-null object\n",
      "CreditScore        10000 non-null int64\n",
      "Geography          10000 non-null object\n",
      "Gender             10000 non-null object\n",
      "Age                10000 non-null int64\n",
      "Tenure             9091 non-null float64\n",
      "Balance            10000 non-null float64\n",
      "NumOfProducts      10000 non-null int64\n",
      "HasCrCard          10000 non-null int64\n",
      "IsActiveMember     10000 non-null int64\n",
      "EstimatedSalary    10000 non-null float64\n",
      "Exited             10000 non-null int64\n",
      "dtypes: float64(3), int64(7), object(3)\n",
      "memory usage: 1.1+ MB\n"
     ]
    }
   ],
   "source": [
    "# вызываем первые 5 строк данных, их типы и метод info()\n",
    "\n",
    "display(data.head())\n",
    "\n",
    "data_types = pd.DataFrame(data = data.dtypes, columns=['dtype'])\n",
    "display(data_types)\n",
    "\n",
    "data.info()"
   ]
  },
  {
   "cell_type": "markdown",
   "metadata": {},
   "source": [
    "С типами данных все впорядке, за исключением колонки `Tenure`\n",
    "\n",
    "Видно, что в колонке `Tenure` есть около 10% пропусков (это и объясняет нецелый тип данных). А сама колонка содержит информацию о количестве недвижимости у клиента. Так как мы не имеем возможно корректно заполнить пропуски в этом признаке, а некоторые модели машинного обучение чувствительны к наличию пропусков - удалим строчки, в которых есть пропуски"
   ]
  },
  {
   "cell_type": "code",
   "execution_count": 4,
   "metadata": {},
   "outputs": [
    {
     "name": "stdout",
     "output_type": "stream",
     "text": [
      "<class 'pandas.core.frame.DataFrame'>\n",
      "Int64Index: 9091 entries, 1 to 9999\n",
      "Data columns (total 13 columns):\n",
      "CustomerId         9091 non-null int64\n",
      "Surname            9091 non-null object\n",
      "CreditScore        9091 non-null int64\n",
      "Geography          9091 non-null object\n",
      "Gender             9091 non-null object\n",
      "Age                9091 non-null int64\n",
      "Tenure             9091 non-null int64\n",
      "Balance            9091 non-null float64\n",
      "NumOfProducts      9091 non-null int64\n",
      "HasCrCard          9091 non-null int64\n",
      "IsActiveMember     9091 non-null int64\n",
      "EstimatedSalary    9091 non-null float64\n",
      "Exited             9091 non-null int64\n",
      "dtypes: float64(2), int64(8), object(3)\n",
      "memory usage: 994.3+ KB\n"
     ]
    }
   ],
   "source": [
    "# удаляем пропуски в данных\n",
    "\n",
    "data.dropna(axis=0, subset=['Tenure'], inplace=True)\n",
    "\n",
    "# поменяем тип данных в колонке, чтобы он соответствовал логике величины\n",
    "\n",
    "data['Tenure'] = data['Tenure'].astype('int64')\n",
    "\n",
    "data.info()"
   ]
  },
  {
   "cell_type": "markdown",
   "metadata": {},
   "source": [
    "У нас есть такие признаки как `Surname`, `Geography` и `Gender` - они имеют тип данных *object*, который скорее всего не сможет быть корректно обработан библиотекой sklearn\n",
    "\n",
    "Первый можем просто удалить так как мы будем исходить из предположения, что фамилия никак не влияет на факт ухода клиента из банка. Также вместе с этим столбцом можно удалить и столбец `CustomerID` так как он несет практически такую же смысловую нагрузку, за исключением того, что уникален для каждого клиента\n",
    "\n",
    "Второй и третий признаки преобразуем с помощью техники **OHE**"
   ]
  },
  {
   "cell_type": "code",
   "execution_count": 5,
   "metadata": {},
   "outputs": [],
   "source": [
    "# удаляем столбцы 'Surname' и 'CustomerId'\n",
    "\n",
    "data.drop(['CustomerId', 'Surname'], axis=1, inplace=True)"
   ]
  },
  {
   "cell_type": "code",
   "execution_count": 6,
   "metadata": {},
   "outputs": [],
   "source": [
    "# кодируем признак 'Gender' с помощью OHE\n",
    "# признак может принимает всего 2 значения, поэтому уберем один из столбцов, чтобы не попасть в дамми-ловушку\n",
    "\n",
    "data_ohe = pd.get_dummies(data, columns=['Gender'], drop_first=True)\n",
    "\n",
    "# кодируем признак 'Geography' с помощью OHE\n",
    "# признак вообще говоря может принимать любые значения, поэтому сохраним все получаемые столбцы\n",
    "\n",
    "data_ohe = pd.get_dummies(data_ohe, columns=['Geography'], drop_first=False)"
   ]
  },
  {
   "cell_type": "code",
   "execution_count": 7,
   "metadata": {},
   "outputs": [
    {
     "name": "stdout",
     "output_type": "stream",
     "text": [
      "<class 'pandas.core.frame.DataFrame'>\n",
      "Int64Index: 9091 entries, 1 to 9999\n",
      "Data columns (total 13 columns):\n",
      "CreditScore          9091 non-null int64\n",
      "Age                  9091 non-null int64\n",
      "Tenure               9091 non-null int64\n",
      "Balance              9091 non-null float64\n",
      "NumOfProducts        9091 non-null int64\n",
      "HasCrCard            9091 non-null int64\n",
      "IsActiveMember       9091 non-null int64\n",
      "EstimatedSalary      9091 non-null float64\n",
      "Exited               9091 non-null int64\n",
      "Gender_Male          9091 non-null uint8\n",
      "Geography_France     9091 non-null uint8\n",
      "Geography_Germany    9091 non-null uint8\n",
      "Geography_Spain      9091 non-null uint8\n",
      "dtypes: float64(2), int64(7), uint8(4)\n",
      "memory usage: 745.7 KB\n"
     ]
    }
   ],
   "source": [
    "data_ohe.info()"
   ]
  },
  {
   "cell_type": "markdown",
   "metadata": {},
   "source": [
    "Хочется переименовать колонки, чтобы все имели единообразные имена"
   ]
  },
  {
   "cell_type": "code",
   "execution_count": 8,
   "metadata": {},
   "outputs": [],
   "source": [
    "# переименовываем колонки в соответствии с внутренним чувством стиля\n",
    "\n",
    "new_columns_names = ['credit_score', 'age', 'tenure', 'balance',\n",
    "       'num_of_products', 'has_cr_card', 'is_active_member', 'estimated_salary',\n",
    "       'exited', 'gender_male', 'geography_france', 'geography_germany',\n",
    "       'geography_spain']\n",
    "\n",
    "data_ohe.set_axis(new_columns_names, axis=1, inplace=True)"
   ]
  },
  {
   "cell_type": "markdown",
   "metadata": {},
   "source": [
    "Выделим в отдельные датафреймы фичи и целевой признак"
   ]
  },
  {
   "cell_type": "code",
   "execution_count": 9,
   "metadata": {},
   "outputs": [],
   "source": [
    "# выделяем целевой признак\n",
    "\n",
    "target = data_ohe['exited']\n",
    "features = data_ohe.drop(['exited'], axis=1)"
   ]
  },
  {
   "cell_type": "markdown",
   "metadata": {},
   "source": [
    "<a id=\"1.2\"></a>"
   ]
  },
  {
   "cell_type": "markdown",
   "metadata": {},
   "source": [
    "## Обучающая и тестовая выборки"
   ]
  },
  {
   "cell_type": "markdown",
   "metadata": {},
   "source": [
    "Разделим данные на две выборки - обучающую и тестовую в соотношении: **3:1**\n",
    "\n",
    "Для этого воспользуемся функцией **tarin_test_split** из библиотеки sklearn"
   ]
  },
  {
   "cell_type": "code",
   "execution_count": 10,
   "metadata": {},
   "outputs": [
    {
     "name": "stdout",
     "output_type": "stream",
     "text": [
      "Размер обучающей выборки 6818 объектов\n",
      "\n",
      "Размер тестовой выборки 2273 объектов\n"
     ]
    }
   ],
   "source": [
    "# разбиваем данные на обучающую  тестовую выборки\n",
    "\n",
    "features_train, features_test, target_train, target_test = train_test_split(\n",
    "    features, target, test_size=0.25, random_state=42)\n",
    "\n",
    "\n",
    "print('Размер обучающей выборки', features_train.shape[0], 'объектов')\n",
    "print()\n",
    "print('Размер тестовой выборки', features_test.shape[0], 'объектов')"
   ]
  },
  {
   "cell_type": "markdown",
   "metadata": {},
   "source": [
    "<a id=\"1.3\"></a>"
   ]
  },
  {
   "cell_type": "markdown",
   "metadata": {},
   "source": [
    "## Стандартизация выборок"
   ]
  },
  {
   "cell_type": "markdown",
   "metadata": {},
   "source": [
    "Перед тем как приступать к обучению моделей, обратим внимание что в предоставленных данных все признаки имеют разные масштабы, например, `age` и `estimated_salary`. Для того чтобы избежать ошибок при обучении моделей, стандартизируем все количественные признаки"
   ]
  },
  {
   "cell_type": "code",
   "execution_count": 11,
   "metadata": {},
   "outputs": [],
   "source": [
    "# список количественных признаков\n",
    "\n",
    "numeric = ['credit_score', 'age', 'tenure', 'balance', 'num_of_products','estimated_salary']\n",
    "\n",
    "# создаем копии датафреймов с признаками, чтобы при стандартизации не любоваться на предупреждение от pandas\n",
    "\n",
    "features_train_norm = features_train.copy()\n",
    "features_test_norm = features_test.copy()"
   ]
  },
  {
   "cell_type": "code",
   "execution_count": 12,
   "metadata": {},
   "outputs": [],
   "source": [
    "# стандартизируем данные\n",
    "\n",
    "scaler = StandardScaler()\n",
    "\n",
    "scaler.fit(features_train[numeric]) \n",
    "\n",
    "features_train_norm[numeric] = scaler.transform(features_train[numeric])"
   ]
  },
  {
   "cell_type": "markdown",
   "metadata": {},
   "source": [
    "Нужно стандартизировать и тестовую выборку"
   ]
  },
  {
   "cell_type": "code",
   "execution_count": 13,
   "metadata": {},
   "outputs": [],
   "source": [
    "# создаем копию тестовых данных\n",
    "\n",
    "features_test_norm = features_test.copy()\n",
    "\n",
    "# стандартизируем созданную копию\n",
    "\n",
    "features_test_norm[numeric] = scaler.transform(features_test[numeric])"
   ]
  },
  {
   "cell_type": "markdown",
   "metadata": {},
   "source": [
    "### Промежуточный вывод\n",
    "\n",
    "В результате предобработки данных проведено:\n",
    "\n",
    "1. Удалены строки с пропусками\n",
    "\n",
    "\n",
    "2. Удалены столбцы `Surname` и `CustomerId` так как они не влияют на уход клиента из банка\n",
    "\n",
    "\n",
    "3. Признаки `Gender` и `Geography` закодированы с помощью OHE\n",
    "\n",
    "\n",
    "4. Переименованы колонки для единообразия всех названий\n",
    "\n",
    "\n",
    "5. Данные разделены на обучающую и тестовую выборки в соотношении - 3:1\n",
    "\n",
    "\n",
    "6. Стандартизированы обучающая и тестовая выборки"
   ]
  },
  {
   "cell_type": "markdown",
   "metadata": {},
   "source": [
    "<a id=\"2\"></a>"
   ]
  },
  {
   "cell_type": "markdown",
   "metadata": {},
   "source": [
    "# 2. Исследование задачи"
   ]
  },
  {
   "cell_type": "markdown",
   "metadata": {},
   "source": [
    "<a id=\"2.1\"></a>"
   ]
  },
  {
   "cell_type": "markdown",
   "metadata": {},
   "source": [
    "## Оценим дисбаланс классов в обучающей выборке"
   ]
  },
  {
   "cell_type": "code",
   "execution_count": 14,
   "metadata": {},
   "outputs": [
    {
     "data": {
      "image/png": "[encoded data removed]",
      "text/plain": [
       "<Figure size 720x576 with 1 Axes>"
      ]
     },
     "metadata": {
      "needs_background": "light"
     },
     "output_type": "display_data"
    }
   ],
   "source": [
    "# считаем количество объектов каждого класса\n",
    "\n",
    "classes_count = pd.DataFrame(target_train.value_counts())\n",
    "\n",
    "# добавим график\n",
    "\n",
    "ax = plt.subplots(figsize=(10,8))\n",
    "ax = sns.barplot(x=classes_count.index, y=classes_count['exited'], data=classes_count, edgecolor='black')\n",
    "ax.grid(axis='y')\n",
    "ax.set_xlabel('exited', fontsize=15)\n",
    "ax.set_ylabel('count', fontsize=15)\n",
    "ax.set_title('Распределение пользователей по факту ухода', fontsize=25)\n",
    "\n",
    "plt.show()"
   ]
  },
  {
   "cell_type": "markdown",
   "metadata": {},
   "source": [
    "Пользователей, которые остались клиентами банка значительно больше, чем ушедших. Это может повлиять на качество обучаемых моделей. Проверим это предположение и обучим модель без учета этого факта."
   ]
  },
  {
   "cell_type": "markdown",
   "metadata": {},
   "source": [
    "Фактически мы решаем задачу классификации - распределяем клиентов по 2 группам. Поэтому для обучения выберем две модели - **случайный лес** и **логистическую регрессию**."
   ]
  },
  {
   "cell_type": "markdown",
   "metadata": {},
   "source": [
    "<a id=\"2.2\"></a>"
   ]
  },
  {
   "cell_type": "markdown",
   "metadata": {},
   "source": [
    "## Случайный лес"
   ]
  },
  {
   "cell_type": "markdown",
   "metadata": {},
   "source": [
    "Для поиска наилучшей модели воспользуемся **GridSearchCV**.\n",
    "\n",
    "Будем варьировать два гиперпараметра:\n",
    "\n",
    "- `n_estimators` - от 1 до 251 с шагом в 10\n",
    "\n",
    "- `max_depth` - от 1 до 50 с шагом в 1\n",
    "\n",
    "Так же воспользуемся кросс валидацией"
   ]
  },
  {
   "cell_type": "code",
   "execution_count": 15,
   "metadata": {},
   "outputs": [
    {
     "name": "stdout",
     "output_type": "stream",
     "text": [
      "Wall time: 5min 31s\n"
     ]
    },
    {
     "data": {
      "text/plain": [
       "{'max_depth': 26, 'n_estimators': 141}"
      ]
     },
     "execution_count": 15,
     "metadata": {},
     "output_type": "execute_result"
    }
   ],
   "source": [
    "%%time\n",
    "\n",
    "# подбираем лучшие параметры для модели случайного леса - количество дреевьев от 1 до 251, глубина от 1 до 50\n",
    "# обучение проводим сразу на всех ядрах процессора - параметр n_jobs=-1\n",
    "# делим обучающую выборку на 3 и используем кросс валидацию\n",
    "\n",
    "gs = GridSearchCV(RandomForestClassifier(random_state=42),\n",
    "                        param_grid={'n_estimators': range(1,252,10), 'max_depth': range(1,51)},\n",
    "                        scoring='f1',\n",
    "                        n_jobs=-1,\n",
    "                        cv=3,\n",
    "                        return_train_score=True)\n",
    "\n",
    "gs.fit(features_train_norm, target_train)\n",
    "\n",
    "# выводим лучшие параметры на экран\n",
    "\n",
    "gs.best_params_"
   ]
  },
  {
   "cell_type": "markdown",
   "metadata": {},
   "source": [
    "В результате вариации параметров, лучший результат по метрике **F1** получили при 141 деревьях глубиной 26"
   ]
  },
  {
   "cell_type": "code",
   "execution_count": 16,
   "metadata": {},
   "outputs": [
    {
     "name": "stdout",
     "output_type": "stream",
     "text": [
      "F1 на обучающей 1.0\n",
      "F1 на тестовой 0.5606694560669456\n",
      "Wall time: 830 ms\n"
     ]
    }
   ],
   "source": [
    "%%time\n",
    "\n",
    "#  обучаем модель с наибольшим значением F1\n",
    "\n",
    "best_forest_model = RandomForestClassifier(max_depth= 26, n_estimators= 141, random_state=42)\n",
    "\n",
    "best_forest_model.fit(features_train_norm, target_train)\n",
    "\n",
    "# предсказываем значение целевого признака по обучающей и тестовой выборке\n",
    "\n",
    "predicted_train = best_forest_model.predict(features_train_norm)\n",
    "predicted_test = best_forest_model.predict(features_test_norm)\n",
    "\n",
    "# считаем метрику F1 \n",
    "\n",
    "print('F1 на обучающей', f1_score(target_train, predicted_train))\n",
    "print('F1 на тестовой', f1_score(target_test, predicted_test))"
   ]
  },
  {
   "cell_type": "markdown",
   "metadata": {},
   "source": [
    "<a id=\"2.3\"></a>"
   ]
  },
  {
   "cell_type": "markdown",
   "metadata": {},
   "source": [
    "## Логистическая регрессия"
   ]
  },
  {
   "cell_type": "markdown",
   "metadata": {},
   "source": [
    "Для поиска наилучшей модели снова воспользуемся **GridSearchCV**.\n",
    "\n",
    "Варьировать будем только один параметр - `max_iter` от 10 до 10000 с шагом 10"
   ]
  },
  {
   "cell_type": "code",
   "execution_count": 17,
   "metadata": {},
   "outputs": [
    {
     "name": "stdout",
     "output_type": "stream",
     "text": [
      "Wall time: 6.68 s\n"
     ]
    },
    {
     "data": {
      "text/plain": [
       "{'max_iter': 10}"
      ]
     },
     "execution_count": 17,
     "metadata": {},
     "output_type": "execute_result"
    }
   ],
   "source": [
    "%%time\n",
    "\n",
    "# подбираем наилучшие параметры для модели логистической регрессии\n",
    "\n",
    "gs = GridSearchCV(LogisticRegression(random_state=12345, solver='liblinear'),\n",
    "                                    param_grid={'max_iter': range(10, 10000, 10)},\n",
    "                                    scoring='f1',\n",
    "                                     n_jobs=-1,\n",
    "                                    cv=3,\n",
    "                                    return_train_score=True)\n",
    "                  \n",
    "gs.fit(features_train_norm, target_train)\n",
    "                  \n",
    "# выводим лучшие параметры на экран\n",
    "\n",
    "gs.best_params_"
   ]
  },
  {
   "cell_type": "code",
   "execution_count": 18,
   "metadata": {},
   "outputs": [
    {
     "name": "stdout",
     "output_type": "stream",
     "text": [
      "F1 на обучающей 0.32224532224532226\n",
      "F1 на тестовой 0.3144246353322528\n",
      "Wall time: 16 ms\n"
     ]
    }
   ],
   "source": [
    "%%time\n",
    "\n",
    "#  обучаем модель с наибольшим значением F1\n",
    "\n",
    "best_regression_model = LogisticRegression(random_state=12345, solver='liblinear', max_iter=10)\n",
    "\n",
    "best_regression_model.fit(features_train_norm, target_train)\n",
    "\n",
    "# предсказываем значение целевого признака по обучающей и тестовой выборке\n",
    "\n",
    "predicted_train = best_regression_model.predict(features_train_norm)\n",
    "predicted_test = best_regression_model.predict(features_test_norm)\n",
    "\n",
    "# считаем метрику F1 \n",
    "\n",
    "print('F1 на обучающей', f1_score(target_train, predicted_train))\n",
    "print('F1 на тестовой', f1_score(target_test, predicted_test))"
   ]
  },
  {
   "cell_type": "markdown",
   "metadata": {},
   "source": [
    "### Промежуточный вывод\n",
    "\n",
    "1. Для обучения было выбрано две модели - случайный лес и логистическая регрессия\n",
    "\n",
    "\n",
    "2. С помощью GridSearchCV для выбранных моделей были выбраны параметры, максимизирующие метрику **F1**\n",
    "\n",
    "    - лес\n",
    "        - max_depth= 26\n",
    "        - n_estimators= 141\n",
    "        \n",
    "    - регрессия\n",
    "        - solver='liblinear'\n",
    "        - max_iter=10\n",
    "        \n",
    "3. Модель рандомного леса показывает более высокое значение F1 на тестовой выборке:\n",
    "\n",
    "    - лес = 0.5606694560669456\n",
    "    \n",
    "    - регрессия = 0.3144246353322528\n",
    "    \n",
    "\n",
    "4. Время, которое обучается модель рандомного леса значительно превышает время обучения модели регрессии\n",
    "\n",
    "    - лес ~ 830 ms\n",
    "    \n",
    "    - регрессия ~ 15 ms\n",
    "    \n",
    "    \n",
    "5. Без учета дисбаланса классов метрика F1 так и не достигла необходимого порогового значения 0.59"
   ]
  },
  {
   "cell_type": "markdown",
   "metadata": {},
   "source": [
    "<a id=\"3\"></a>"
   ]
  },
  {
   "cell_type": "markdown",
   "metadata": {},
   "source": [
    "# 3. Борьба с дисбалансом"
   ]
  },
  {
   "cell_type": "markdown",
   "metadata": {},
   "source": [
    "<a id=\"3.1\"></a>"
   ]
  },
  {
   "cell_type": "markdown",
   "metadata": {},
   "source": [
    "## Рандомный лес"
   ]
  },
  {
   "cell_type": "markdown",
   "metadata": {},
   "source": [
    "Поскольку данных достаточно мало, то воспользуемся техникой **upsampling**"
   ]
  },
  {
   "cell_type": "code",
   "execution_count": 19,
   "metadata": {},
   "outputs": [],
   "source": [
    "# функция для upsampling\n",
    "\n",
    "def upsample(features, target, repeat):\n",
    "    features_zeros = features[target == 0]\n",
    "    features_ones = features[target == 1]\n",
    "    target_zeros = target[target == 0]\n",
    "    target_ones = target[target == 1]\n",
    "\n",
    "    features_upsampled = pd.concat([features_zeros] + [features_ones] * repeat)\n",
    "    target_upsampled = pd.concat([target_zeros] + [target_ones] * repeat)\n",
    "    \n",
    "    features_upsampled, target_upsampled = shuffle(\n",
    "        features_upsampled, target_upsampled, random_state=12345)\n",
    "    \n",
    "    return features_upsampled, target_upsampled"
   ]
  },
  {
   "cell_type": "markdown",
   "metadata": {},
   "source": [
    "Определим во сколько раз нужно увеличить число объектов положительного класса"
   ]
  },
  {
   "cell_type": "code",
   "execution_count": 20,
   "metadata": {},
   "outputs": [
    {
     "name": "stdout",
     "output_type": "stream",
     "text": [
      "Нужно увеличить число объектов положительного класса в 4 раз(а)\n"
     ]
    }
   ],
   "source": [
    "repeat = int(round(target_train.value_counts()[0] / target_train.value_counts()[1]))\n",
    "\n",
    "print('Нужно увеличить число объектов положительного класса в {} раз(а)'.format(repeat))"
   ]
  },
  {
   "cell_type": "code",
   "execution_count": 21,
   "metadata": {},
   "outputs": [],
   "source": [
    "# апсемплим обучающую выборку\n",
    "\n",
    "features_upsampled, target_upsampled = upsample(features_train, target_train, repeat)"
   ]
  },
  {
   "cell_type": "markdown",
   "metadata": {},
   "source": [
    "Теперь нужно снова стандартизировать наши данные"
   ]
  },
  {
   "cell_type": "code",
   "execution_count": 22,
   "metadata": {},
   "outputs": [],
   "source": [
    "# создаем копию дополненных данных\n",
    "\n",
    "features_upsampled_norm = features_upsampled.copy()\n",
    "\n",
    "# стандартизируем созданную копию\n",
    "\n",
    "features_upsampled_norm[numeric] = scaler.transform(features_upsampled[numeric])"
   ]
  },
  {
   "cell_type": "code",
   "execution_count": 23,
   "metadata": {
    "scrolled": true
   },
   "outputs": [
    {
     "name": "stdout",
     "output_type": "stream",
     "text": [
      "Wall time: 15min 24s\n"
     ]
    },
    {
     "data": {
      "text/plain": [
       "{'max_depth': 22, 'n_estimators': 211}"
      ]
     },
     "execution_count": 23,
     "metadata": {},
     "output_type": "execute_result"
    }
   ],
   "source": [
    "%%time\n",
    "\n",
    "# подбираем лучшие параметры для модели случайного леса - количество дреевьев от 1 до 350, глубина от 1 до 50\n",
    "# обучение проводим сразу на всех ядрах процессора - параметр n_jobs=-1\n",
    "# делим обучающую выборку на 3 и используем кросс валидацию\n",
    "\n",
    "gs = GridSearchCV(RandomForestClassifier(random_state=42),\n",
    "                        param_grid={'n_estimators': range(1,350,10), 'max_depth': range(1,51)},\n",
    "                        scoring='f1',\n",
    "                        n_jobs=-1,\n",
    "                        cv=3,\n",
    "                        return_train_score=True)\n",
    "\n",
    "gs.fit(features_upsampled_norm, target_upsampled)\n",
    "\n",
    "# выводим лучшие параметры на экран\n",
    "\n",
    "gs.best_params_"
   ]
  },
  {
   "cell_type": "markdown",
   "metadata": {},
   "source": [
    "В результате вариации параметров, лучший результат по метрике **F1** получили при 211 деревьях глубиной 22"
   ]
  },
  {
   "cell_type": "code",
   "execution_count": 24,
   "metadata": {},
   "outputs": [
    {
     "name": "stdout",
     "output_type": "stream",
     "text": [
      "F1 на обучающей 0.9431039088237912\n",
      "F1 на тестовой 0.6120331950207468\n",
      "Wall time: 2.52 s\n"
     ]
    }
   ],
   "source": [
    "%%time\n",
    "\n",
    "#  обучаем модель с наибольшим значением F1\n",
    "\n",
    "best_upsampled_forest_model = RandomForestClassifier(max_depth= 11, n_estimators= 341, random_state=42)\n",
    "\n",
    "best_upsampled_forest_model.fit(features_upsampled_norm, target_upsampled)\n",
    "\n",
    "# предсказываем значение целевого признака по обучающей и тестовой выборке\n",
    "\n",
    "predicted_train = best_upsampled_forest_model.predict(features_upsampled_norm)\n",
    "predicted_test = best_upsampled_forest_model.predict(features_test_norm)\n",
    "\n",
    "# считаем метрику F1 \n",
    "\n",
    "\n",
    "print('F1 на обучающей', f1_score(target_upsampled, predicted_train))\n",
    "print('F1 на тестовой', f1_score(target_test, predicted_test))"
   ]
  },
  {
   "cell_type": "markdown",
   "metadata": {},
   "source": [
    "<a id=\"3.2\"></a>"
   ]
  },
  {
   "cell_type": "markdown",
   "metadata": {},
   "source": [
    "## Логистическая регрессия"
   ]
  },
  {
   "cell_type": "markdown",
   "metadata": {},
   "source": [
    "В случае модели логистической регрессии попробуем применить другой способ учета дисбаланса класа - при обучении модели сбалансируем веса положительного и отрицательного класса"
   ]
  },
  {
   "cell_type": "code",
   "execution_count": 25,
   "metadata": {},
   "outputs": [
    {
     "name": "stdout",
     "output_type": "stream",
     "text": [
      "F1 на обучающей 0.504919730709477\n",
      "F1 на тестовой 0.4772036474164133\n",
      "Wall time: 14 ms\n"
     ]
    }
   ],
   "source": [
    "%%time\n",
    "\n",
    "#  обучаем модель с наибольшим значением F1 на взвешенных данных\n",
    "\n",
    "best_balanced_regression_model = LogisticRegression(random_state=12345, solver='liblinear', class_weight='balanced')\n",
    "\n",
    "best_balanced_regression_model.fit(features_train_norm, target_train)\n",
    "\n",
    "# предсказываем значение целевого признака по обучающей и тестовой выборке\n",
    "\n",
    "predicted_train = best_balanced_regression_model.predict(features_train_norm)\n",
    "predicted_test = best_balanced_regression_model.predict(features_test_norm)\n",
    "\n",
    "# считаем метрику F1 \n",
    "\n",
    "print('F1 на обучающей', f1_score(target_train, predicted_train))\n",
    "print('F1 на тестовой', f1_score(target_test, predicted_test))"
   ]
  },
  {
   "cell_type": "markdown",
   "metadata": {},
   "source": [
    "Проверим как изменится метрика F1 если обучать модель логистической регрессии на семплированной обучающей выборке. При этом не будем менять дефолтное значения `class_weight`"
   ]
  },
  {
   "cell_type": "code",
   "execution_count": 26,
   "metadata": {},
   "outputs": [
    {
     "name": "stdout",
     "output_type": "stream",
     "text": [
      "F1 на обучающей 0.7171917191719173\n",
      "F1 на тестовой 0.47442550037064485\n",
      "Wall time: 18.9 ms\n"
     ]
    }
   ],
   "source": [
    "%%time\n",
    "\n",
    "#  обучаем модель с наибольшим значением F1 на семплированных данных\n",
    "\n",
    "best_upsampled_regression_model = LogisticRegression(random_state=12345, solver='liblinear')\n",
    "\n",
    "best_upsampled_regression_model.fit(features_upsampled_norm, target_upsampled)\n",
    "\n",
    "# предсказываем значение целевого признака по обучающей и тестовой выборке\n",
    "\n",
    "predicted_train = best_upsampled_regression_model.predict(features_upsampled_norm)\n",
    "predicted_test = best_upsampled_regression_model.predict(features_test_norm)\n",
    "\n",
    "# считаем метрику F1 \n",
    "\n",
    "print('F1 на обучающей', f1_score(target_upsampled, predicted_train))\n",
    "print('F1 на тестовой', f1_score(target_test, predicted_test))"
   ]
  },
  {
   "cell_type": "markdown",
   "metadata": {},
   "source": [
    "### Промежуточный вывод\n",
    "\n",
    "1. С помощью GridSearchCV для выбранных моделей были выбраны параметры, максимизирующие метрику **F1**\n",
    "\n",
    "    - лес\n",
    "        - max_depth= 11\n",
    "        - n_estimators= 341\n",
    "        \n",
    "    - регрессия\n",
    "        - solver='liblinear'\n",
    "        - max_iter= default\n",
    "        - class_weight = 'balanced'\n",
    "        \n",
    "3. Модель рандомного леса показывает более высокое значение F1 на тестовой выборке:\n",
    "\n",
    "    - лес = 0.6120331950207468\n",
    "    \n",
    "    - регрессия = 0.4772036474164133\n",
    "    \n",
    "\n",
    "4. Время, которое обучается модель рандомного леса значительно превышает время обучения модели регрессии\n",
    "\n",
    "    - лес ~ 2.5 s\n",
    "    \n",
    "    - регрессия ~ 15 ms\n",
    "    \n",
    "    \n",
    "5. Дисбаланс классов был учтен двумя способами:\n",
    "\n",
    "    - методом upsampling для модели рандомного леса и логистической регрессии\n",
    "    - балансированием классов для модели логистической регрессии"
   ]
  },
  {
   "cell_type": "markdown",
   "metadata": {},
   "source": [
    "<a id=\"4\"></a>"
   ]
  },
  {
   "cell_type": "markdown",
   "metadata": {},
   "source": [
    "# 4. Тестирование модели"
   ]
  },
  {
   "cell_type": "markdown",
   "metadata": {},
   "source": [
    "Несмотря на то, чтол ранее все модели были уже протестированы на тестовой выборке - приведем результаты теста еще раз и построим график метрики F1 в зависимости от модели. При этом для проверки адекватности модели - приведем результаты для модели, которая проводит классификацию клиентов случайным образом."
   ]
  },
  {
   "cell_type": "code",
   "execution_count": 27,
   "metadata": {},
   "outputs": [],
   "source": [
    "# список с названиями моделей и список для хранения F1 для всех моделей \n",
    "\n",
    "model_names = ['RandomForest upsampled', 'LogisticRegression balanced',\n",
    "              'LogisticRegression upsampled', 'Dummy']\n",
    "model_numbers = [1,2,3,4]\n",
    "\n",
    "model_scores = []"
   ]
  },
  {
   "cell_type": "code",
   "execution_count": 28,
   "metadata": {},
   "outputs": [
    {
     "name": "stdout",
     "output_type": "stream",
     "text": [
      "RandomForest upsampled F1 на тестовой 0.6120331950207468\n",
      "\n",
      "LogisticRegression balanced F1 на тестовой 0.4772036474164133\n",
      "\n",
      "LogisticRegression upsampled F1 на тестовой 0.47442550037064485\n",
      "\n",
      "Dummy F1 на тестовой 0.28645495787427094\n",
      "\n"
     ]
    }
   ],
   "source": [
    "# лучшая модель рандомного леса upsampling\n",
    "\n",
    "predicted_test = best_upsampled_forest_model.predict(features_test_norm)\n",
    "print('RandomForest upsampled F1 на тестовой', f1_score(target_test, predicted_test))\n",
    "print()\n",
    "model_scores.append(f1_score(target_test, predicted_test))\n",
    "\n",
    "\n",
    "\n",
    "# лучшая модель рандомной регрессии с балансом классов\n",
    "\n",
    "predicted_test = best_balanced_regression_model.predict(features_test_norm)\n",
    "print('LogisticRegression balanced F1 на тестовой', f1_score(target_test, predicted_test))\n",
    "print()\n",
    "model_scores.append(f1_score(target_test, predicted_test))\n",
    "\n",
    "\n",
    "\n",
    "# лучшая модель рандомной регрессии upsampling\n",
    "\n",
    "predicted_test = best_upsampled_regression_model.predict(features_test_norm)\n",
    "print('LogisticRegression upsampled F1 на тестовой', f1_score(target_test, predicted_test))\n",
    "print()\n",
    "model_scores.append(f1_score(target_test, predicted_test))\n",
    "\n",
    "\n",
    "\n",
    "# для проверки адекватности модели посчитаем f1 для Dummy модели\n",
    "\n",
    "dummy = DummyClassifier(random_state = 3, strategy = 'uniform')\n",
    "dummy.fit(features_train, target_train)\n",
    "predicted_test = dummy.predict(features_test)\n",
    "print('Dummy F1 на тестовой', f1_score(target_test, predicted_test))\n",
    "print()\n",
    "model_scores.append(f1_score(target_test, predicted_test))"
   ]
  },
  {
   "cell_type": "code",
   "execution_count": 29,
   "metadata": {},
   "outputs": [
    {
     "data": {
      "image/png": "[encoded data removed]",
      "text/plain": [
       "<Figure size 720x576 with 1 Axes>"
      ]
     },
     "metadata": {
      "needs_background": "light"
     },
     "output_type": "display_data"
    }
   ],
   "source": [
    "# добавим график\n",
    "\n",
    "ax = plt.subplots(figsize=(10,8))\n",
    "ax = sns.barplot(x=model_numbers , y=model_scores, edgecolor='black')\n",
    "ax.grid(axis='y')\n",
    "ax.set_ylabel('F1 score', fontsize=15)\n",
    "ax.set_title('Сравнение метрики F1\\nдля обученных моделей', fontsize=25)\n",
    "ax.set_xticklabels(model_names, rotation=45)\n",
    "ax.set_ylim(0,1)\n",
    "\n",
    "plt.axhline(y=0.59, linewidth=3, color='red') # обозначим красной горизонтальной линией порог по F1\n",
    "plt.show()"
   ]
  },
  {
   "cell_type": "markdown",
   "metadata": {},
   "source": [
    "Теперь для обученных моделей посчитаем AUC ROC и снова построим график"
   ]
  },
  {
   "cell_type": "code",
   "execution_count": 30,
   "metadata": {},
   "outputs": [],
   "source": [
    "# список для сохранения AUC ROC для моделей\n",
    "\n",
    "model_auc = []"
   ]
  },
  {
   "cell_type": "code",
   "execution_count": 31,
   "metadata": {},
   "outputs": [
    {
     "name": "stdout",
     "output_type": "stream",
     "text": [
      "RandomForest upsampled AUC ROC на тестовой 0.8520288233666559\n",
      "\n",
      "LogisticRegression balanced AUC ROC на тестовой 0.7548895064178907\n",
      "\n",
      "LogisticRegression upsampled AUC ROS на тестовой 0.7549207838608395\n",
      "\n",
      "Dummy AUC ROC на тестовой 0.5\n",
      "\n"
     ]
    }
   ],
   "source": [
    "# лучшая модель рандомного леса upsampling\n",
    "\n",
    "probabilities_test =  best_upsampled_forest_model.predict_proba(features_test_norm)\n",
    "probabilities_one_test = probabilities_test[:, 1]\n",
    "\n",
    "print('RandomForest upsampled AUC ROC на тестовой', roc_auc_score (target_test, probabilities_one_test))\n",
    "print()\n",
    "model_auc.append(roc_auc_score (target_test, probabilities_one_test))\n",
    "\n",
    "\n",
    "# лучшая модель рандомной регрессии с балансом классов\n",
    "\n",
    "probabilities_test =  best_balanced_regression_model.predict_proba(features_test_norm)\n",
    "probabilities_one_test = probabilities_test[:, 1]\n",
    "\n",
    "print('LogisticRegression balanced AUC ROC на тестовой', roc_auc_score (target_test, probabilities_one_test))\n",
    "print()\n",
    "model_auc.append(roc_auc_score (target_test, probabilities_one_test))\n",
    "\n",
    "\n",
    "# лучшая модель рандомной регрессии upsampling\n",
    "\n",
    "probabilities_test =  best_upsampled_regression_model.predict_proba(features_test_norm)\n",
    "probabilities_one_test = probabilities_test[:, 1]\n",
    "\n",
    "print('LogisticRegression upsampled AUC ROS на тестовой', roc_auc_score (target_test, probabilities_one_test))\n",
    "print()\n",
    "model_auc.append(roc_auc_score (target_test, probabilities_one_test))\n",
    "\n",
    "\n",
    "# для проверки адекватности модели посчитаем f1 для Dummy модели\n",
    "\n",
    "dummy = DummyClassifier(random_state = 3, strategy = 'uniform')\n",
    "dummy.fit(features_train, target_train)\n",
    "probabilities_test = dummy.predict_proba(features_test)\n",
    "probabilities_one_test = probabilities_test[:, 1]\n",
    "\n",
    "\n",
    "print('Dummy AUC ROC на тестовой', roc_auc_score (target_test, probabilities_one_test))\n",
    "print()\n",
    "model_auc.append(roc_auc_score (target_test, probabilities_one_test))"
   ]
  },
  {
   "cell_type": "code",
   "execution_count": 32,
   "metadata": {},
   "outputs": [
    {
     "data": {
      "image/png": "[encoded data removed]",
      "text/plain": [
       "<Figure size 720x576 with 1 Axes>"
      ]
     },
     "metadata": {
      "needs_background": "light"
     },
     "output_type": "display_data"
    }
   ],
   "source": [
    "# добавим график\n",
    "\n",
    "ax = plt.subplots(figsize=(10,8))\n",
    "ax = sns.barplot(x=model_numbers , y=model_auc, edgecolor='black')\n",
    "ax.grid(axis='y')\n",
    "ax.set_ylabel('AUC ROC', fontsize=15)\n",
    "ax.set_title('Сравнение метрики AUC ROC\\nдля обученных моделей', fontsize=25)\n",
    "ax.set_xticklabels(model_names, rotation=45)\n",
    "ax.set_ylim(0,1)\n",
    "\n",
    "plt.show()"
   ]
  },
  {
   "cell_type": "markdown",
   "metadata": {},
   "source": [
    "<a id=\"5\"></a>"
   ]
  },
  {
   "cell_type": "markdown",
   "metadata": {},
   "source": [
    "## Вывод\n",
    "\n",
    "В результате проекта были обучены два типа моделей - рандомный лес и логистическая регресиия:\n",
    "\n",
    "1. были обучены модели без учета дисбаланса классов, метрика F1 равна:\n",
    "\n",
    "    - лес = 0.5606694560669456\n",
    "    - регрессия = 0.3144246353322528\n",
    "    \n",
    "    \n",
    "2. был проведен учет дисбаланска классов:\n",
    "\n",
    "    - upsampling - для леса и регрессии\n",
    "    - баланс веса - для регрессии\n",
    "    \n",
    "   \n",
    "3. были обучены модели с учетом дисбаланса классов, метрика F1 равна:\n",
    "\n",
    "    - лес = 0.6120331950207468\n",
    "    - регрессия = 0.4772036474164133\n",
    "    \n",
    "    Несмотря на явное преимущество модели рандомного леса по метрике F1 необходимо также учитывать, что обучение моделей леса занимает на несколько порядков больше времени, по сравнению с обучением модели логистической регрессии"
   ]
  }
 ],
 "metadata": {
  "kernelspec": {
   "display_name": "Python 3",
   "language": "python",
   "name": "python3"
  },
  "language_info": {
   "codemirror_mode": {
    "name": "ipython",
    "version": 3
   },
   "file_extension": ".py",
   "mimetype": "text/x-python",
   "name": "python",
   "nbconvert_exporter": "python",
   "pygments_lexer": "ipython3",
   "version": "3.7.4"
  }
 },
 "nbformat": 4,
 "nbformat_minor": 4
}
